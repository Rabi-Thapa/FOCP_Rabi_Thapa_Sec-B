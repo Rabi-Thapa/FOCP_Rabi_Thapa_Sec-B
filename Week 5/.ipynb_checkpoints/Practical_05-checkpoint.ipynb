{
 "cells": [
  {
   "cell_type": "code",
   "execution_count": null,
   "id": "f7afe509",
   "metadata": {},
   "outputs": [],
   "source": [
    "number = input(\"Enter a number: \")\n",
    "number = int(number)\n",
    "print(\"The numbered entered was\", number)\n",
    "if (number % 2) == 0:\n",
    "    print(\"That is an even number\")\n",
    "else:\n",
    "    print(\"That is an odd number\")"
   ]
  }
 ],
 "metadata": {
  "kernelspec": {
   "display_name": "Python 3 (ipykernel)",
   "language": "python",
   "name": "python3"
  },
  "language_info": {
   "codemirror_mode": {
    "name": "ipython",
    "version": 3
   },
   "file_extension": ".py",
   "mimetype": "text/x-python",
   "name": "python",
   "nbconvert_exporter": "python",
   "pygments_lexer": "ipython3",
   "version": "3.9.7"
  }
 },
 "nbformat": 4,
 "nbformat_minor": 5
}
