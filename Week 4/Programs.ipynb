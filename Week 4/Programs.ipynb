{
 "cells": [
  {
   "cell_type": "code",
   "execution_count": 1,
   "id": "b68480fc",
   "metadata": {},
   "outputs": [
    {
     "name": "stdout",
     "output_type": "stream",
     "text": [
      "False\n",
      "True\n",
      "True\n",
      "False\n"
     ]
    }
   ],
   "source": [
    "# Programming Task 01\n",
    "\n",
    "def test_number(num):\n",
    "    if num in range (101):\n",
    "        return True\n",
    "    else:\n",
    "        return False\n",
    "    \n",
    "    \n",
    "    \n",
    "test1= test_number(-1)\n",
    "test2= test_number(65)\n",
    "test3= test_number(100)\n",
    "test4= test_number(101)\n",
    "\n",
    "print(test1)\n",
    "print(test2)\n",
    "print(test3)\n",
    "print(test4)"
   ]
  },
  {
   "cell_type": "code",
   "execution_count": 2,
   "id": "f8a893f4",
   "metadata": {},
   "outputs": [
    {
     "name": "stdout",
     "output_type": "stream",
     "text": [
      "The number of upper case letters: 3\n",
      "The number of lower case letters: 7\n",
      "\n",
      "The number of upper case letters: 0\n",
      "The number of lower case letters: 12\n",
      "\n"
     ]
    }
   ],
   "source": [
    "# Programming Task 02\n",
    "def upper_lower_case(msg):\n",
    "    count1=0\n",
    "    count2=0\n",
    "   \n",
    "    for i in msg:\n",
    "        if (i.isupper()):\n",
    "            count1= count1+1\n",
    "       \n",
    "        elif(i.islower()):\n",
    "            count2= count2+1\n",
    "            \n",
    "    print(\"The number of upper case letters: {}\".format(count1)) \n",
    "    print(\"The number of lower case letters: {}\\n\".format(count2))\n",
    "\n",
    "upper_lower_case(\"TheLazyDog\")\n",
    "upper_lower_case(\"my name is rabi\")"
   ]
  },
  {
   "cell_type": "code",
   "execution_count": 3,
   "id": "2099a12b",
   "metadata": {},
   "outputs": [
    {
     "name": "stdout",
     "output_type": "stream",
     "text": [
      "Rabi\n",
      "Arthur\n",
      "Arthur\n"
     ]
    }
   ],
   "source": [
    "# Programming Task 03\n",
    "\n",
    "def greetings(name):\n",
    "    print(name[0].upper()+name[1:].lower())\n",
    "    return\n",
    "\n",
    "\n",
    "greetings(\"RaBi\")\n",
    "greetings(\"arTHur\")\n",
    "greetings(\"ARTHUR\")"
   ]
  },
  {
   "cell_type": "code",
   "execution_count": 4,
   "id": "8b38e63a",
   "metadata": {},
   "outputs": [
    {
     "name": "stdout",
     "output_type": "stream",
     "text": [
      "Rabi\n",
      "Arthur hello\n",
      "Arthur\n"
     ]
    }
   ],
   "source": [
    "# Programming Task 03\n",
    "\n",
    "# Alternative Method\n",
    "\n",
    "def greet(name):\n",
    "    print(name.capitalize())\n",
    "    return\n",
    "\n",
    "greet(\"RaBi\")\n",
    "greet(\"arTHur hello\")\n",
    "greet(\"ARTHUR\")"
   ]
  },
  {
   "cell_type": "code",
   "execution_count": 5,
   "id": "6b4c451a",
   "metadata": {},
   "outputs": [
    {
     "name": "stdout",
     "output_type": "stream",
     "text": [
      " \n",
      "h\n",
      "h\n",
      "hell\n"
     ]
    }
   ],
   "source": [
    "# Programming Task 04\n",
    "\n",
    "def my_function(message):\n",
    "    if message==\"\" or len(message)==1:\n",
    "        print(message)\n",
    "    else:\n",
    "        print(message[:-1])\n",
    "        \n",
    "    return\n",
    "\n",
    "my_function(\" \")\n",
    "my_function(\"h\")\n",
    "my_function(\"he\")\n",
    "my_function(\"hello\")"
   ]
  },
  {
   "cell_type": "code",
   "execution_count": 6,
   "id": "e7f51c91",
   "metadata": {},
   "outputs": [
    {
     "name": "stdout",
     "output_type": "stream",
     "text": [
      "0C is equivalent to 32.0F\n",
      "12C is equivalent to 53.6F\n"
     ]
    }
   ],
   "source": [
    "# Programming Task 05\n",
    "\n",
    "def cel_to_fah(cel):\n",
    "    '''Convert centigrade into equivalent fahrenheit.'''\n",
    "    \n",
    "    fah= (cel* 9/5) +32\n",
    "    print(f\"{cel}C is equivalent to {fah}F\")\n",
    "    return\n",
    "\n",
    "cel_to_fah(0)\n",
    "cel_to_fah(12)"
   ]
  },
  {
   "cell_type": "code",
   "execution_count": 7,
   "id": "19093f29",
   "metadata": {},
   "outputs": [
    {
     "name": "stdout",
     "output_type": "stream",
     "text": [
      "52F is equivalent to 11.11111111111111C\n",
      "180F is equivalent to 82.22222222222223C\n"
     ]
    }
   ],
   "source": [
    "# Programming Task 05\n",
    "\n",
    "def fah_to_cel(fah):\n",
    "    '''Convert fahrenheit into equivalent centigrade.'''\n",
    "    \n",
    "    cel=(fah -32)* 5/9\n",
    "    print(f\"{fah}F is equivalent to {cel}C\")\n",
    "    return \n",
    "\n",
    "\n",
    "fah_to_cel(52)\n",
    "fah_to_cel(180)"
   ]
  },
  {
   "cell_type": "code",
   "execution_count": 8,
   "id": "ea3efbf2",
   "metadata": {},
   "outputs": [
    {
     "name": "stdout",
     "output_type": "stream",
     "text": [
      "Enter the temperature in C: 12\n",
      "12C is equivalent to 53.6F\n"
     ]
    }
   ],
   "source": [
    "# Programming Task 06\n",
    "\n",
    "def cel_to_fah():\n",
    "    '''Convert centigrade into equivalent fahrenheit.'''\n",
    "    \n",
    "    cel= int(input(f\"Enter the temperature in C: \"))\n",
    "    fah= (cel* 9/5) +32\n",
    "    print(\"{}C is equivalent to {}F\".format(cel,fah))\n",
    "    return\n",
    "\n",
    "cel_to_fah()"
   ]
  },
  {
   "cell_type": "code",
   "execution_count": 9,
   "id": "d401b60c",
   "metadata": {},
   "outputs": [
    {
     "name": "stdout",
     "output_type": "stream",
     "text": [
      "Enter the temperature: 7\n",
      "Enter the temperature: 17\n",
      "Enter the temperature: 23\n",
      "Enter the temperature: 40\n",
      "Enter the temperature: 0\n",
      "Enter the temperature: -4\n",
      "MIN TEMP:  -4\n",
      "MAX TEMP:  40\n",
      "AVERAGE TEMP:  13.833333333333334\n"
     ]
    }
   ],
   "source": [
    "def temp_min_max():\n",
    "    my_list=[]\n",
    "    sum=0\n",
    "    for i in range(6):\n",
    "        ele= int(input(\"Enter the temperature: \"))\n",
    "        my_list.append(ele)\n",
    "        sum= sum+ele\n",
    "        \n",
    "    print(\"MIN TEMP: \",min(my_list))\n",
    "    print(\"MAX TEMP: \",max(my_list))\n",
    "    print(\"AVERAGE TEMP: \",float(sum/6))\n",
    "    return\n",
    "\n",
    "temp_min_max()    "
   ]
  },
  {
   "cell_type": "code",
   "execution_count": 10,
   "id": "ca754410",
   "metadata": {},
   "outputs": [
    {
     "name": "stdout",
     "output_type": "stream",
     "text": [
      "Enter the temperature: 40\n",
      "Enter the temperature: 23\n",
      "Enter the temperature: 21\n",
      "Enter the temperature: -4\n",
      "Enter the temperature: 3\n",
      "Enter the temperature: 9\n",
      "Enter the temperature: 8\n",
      "Enter the temperature: \n",
      "Max Temp:  40.0C.\n",
      "Min Temp:  -4.0C.\n",
      "Mean Temp: 14.285714285714286C.\n"
     ]
    }
   ],
   "source": [
    "from statistics import mean\n",
    "def read_temp():\n",
    "    temp_list=[]\n",
    "    while True:\n",
    "        temp_daily= input(\"Enter the temperature: \")\n",
    "        if not temp_daily:\n",
    "            break\n",
    "        \n",
    "        temp_list.append(float(temp_daily))\n",
    "        \n",
    "    print(f'Max Temp:  {max(temp_list)}C.')\n",
    "    print(f'Min Temp:  {min(temp_list)}C.')\n",
    "    print(f'Mean Temp: {mean(temp_list)}C.')\n",
    "    return\n",
    "    \n",
    "read_temp()\n"
   ]
  },
  {
   "cell_type": "markdown",
   "id": "c9118e78",
   "metadata": {},
   "source": [
    "#### "
   ]
  }
 ],
 "metadata": {
  "kernelspec": {
   "display_name": "Python 3 (ipykernel)",
   "language": "python",
   "name": "python3"
  },
  "language_info": {
   "codemirror_mode": {
    "name": "ipython",
    "version": 3
   },
   "file_extension": ".py",
   "mimetype": "text/x-python",
   "name": "python",
   "nbconvert_exporter": "python",
   "pygments_lexer": "ipython3",
   "version": "3.9.7"
  }
 },
 "nbformat": 4,
 "nbformat_minor": 5
}
