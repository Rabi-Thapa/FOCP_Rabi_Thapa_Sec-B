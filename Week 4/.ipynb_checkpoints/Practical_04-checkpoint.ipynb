{
 "cells": [
  {
   "cell_type": "code",
   "execution_count": 1,
   "id": "33969186",
   "metadata": {},
   "outputs": [
    {
     "name": "stdout",
     "output_type": "stream",
     "text": [
      "49.0\n"
     ]
    }
   ],
   "source": [
    "import math\n",
    "print(math.sqrt(2401))"
   ]
  },
  {
   "cell_type": "code",
   "execution_count": 2,
   "id": "eb6102cb",
   "metadata": {},
   "outputs": [
    {
     "name": "stdout",
     "output_type": "stream",
     "text": [
      "10.0\n"
     ]
    }
   ],
   "source": [
    "from math import log2\n",
    "print(log2(1024))"
   ]
  },
  {
   "cell_type": "code",
   "execution_count": 3,
   "id": "7d3d97b8",
   "metadata": {},
   "outputs": [
    {
     "name": "stdout",
     "output_type": "stream",
     "text": [
      "hello\n",
      "hello\n",
      "How are you?\n",
      "How are you?\n",
      "This is python function call.\n",
      "This is python function call.\n"
     ]
    }
   ],
   "source": [
    "def displayTwice(msg):\n",
    "    print(msg)\n",
    "    print(msg)\n",
    "    \n",
    "displayTwice(\"hello\")\n",
    "displayTwice(\"How are you?\")\n",
    "displayTwice(\"This is python function call.\")"
   ]
  },
  {
   "cell_type": "code",
   "execution_count": 4,
   "id": "418c5273",
   "metadata": {},
   "outputs": [
    {
     "name": "stdout",
     "output_type": "stream",
     "text": [
      "Help on function displayTwice in module __main__:\n",
      "\n",
      "displayTwice(msg)\n",
      "    This will display your message twice.\n",
      "\n"
     ]
    }
   ],
   "source": [
    "def displayTwice(msg):\n",
    "    '''This will display your message twice.'''\n",
    "    print(msg)\n",
    "    print(msg)\n",
    "    \n",
    "help(displayTwice)"
   ]
  },
  {
   "cell_type": "code",
   "execution_count": 5,
   "id": "d59ef016",
   "metadata": {},
   "outputs": [
    {
     "name": "stdout",
     "output_type": "stream",
     "text": [
      "7\n",
      "999\n",
      "-22\n"
     ]
    }
   ],
   "source": [
    "def findMax(a,b):\n",
    "    \"\"\"Finds the maximum of two values.\"\"\"\n",
    "    if( a > b):\n",
    "        max= a\n",
    "    else:\n",
    "        max= b\n",
    "    return max\n",
    "\n",
    "call1= findMax(2,7)\n",
    "call2= findMax(999,990)\n",
    "call3= findMax(-22,-33)\n",
    "\n",
    "print(call1)\n",
    "print(call2)\n",
    "print(call3)"
   ]
  },
  {
   "cell_type": "code",
   "execution_count": 6,
   "id": "22241869",
   "metadata": {},
   "outputs": [
    {
     "name": "stdout",
     "output_type": "stream",
     "text": [
      "35\n",
      "81\n"
     ]
    }
   ],
   "source": [
    "def product(num1,num2= None):\n",
    "    if num2== None:\n",
    "        return num1* num1\n",
    "    else:\n",
    "        return num1* num2\n",
    "    \n",
    "print(product(5,7))  \n",
    "print(product(9))"
   ]
  },
  {
   "cell_type": "code",
   "execution_count": 7,
   "id": "f35338d4",
   "metadata": {},
   "outputs": [
    {
     "name": "stdout",
     "output_type": "stream",
     "text": [
      "x is  1 \n",
      "y is  2 \n",
      "z is  3\n",
      "x is  30 \n",
      "y is  10 \n",
      "z is  20\n",
      "x is  999 \n",
      "y is  9 \n",
      "z is  99\n"
     ]
    }
   ],
   "source": [
    "def someFunc(x,y,z):\n",
    "    print(\"x is \",x,\"\\ny is \",y,\"\\nz is \",z)\n",
    "    \n",
    "someFunc(1,2,3)\n",
    "someFunc(y=10,z=20,x=30)\n",
    "someFunc(z=99,x=999,y=9)"
   ]
  },
  {
   "cell_type": "code",
   "execution_count": 8,
   "id": "9f8b3e11",
   "metadata": {},
   "outputs": [
    {
     "name": "stdout",
     "output_type": "stream",
     "text": [
      "a-b-c-d\n",
      "my_name_is_rabi_thapa_magar\n",
      "21$nothings$breaks$like$a$heart\n"
     ]
    }
   ],
   "source": [
    "print(\"a\",\"b\",\"c\",\"d\",sep=\"-\")\n",
    "print(\"my\",\"name\",\"is\",\"rabi\",\"thapa\",\"magar\",sep=\"_\")\n",
    "print(21,\"nothings\",\"breaks\",\"like\",\"a\",\"heart\",sep=\"$\")"
   ]
  },
  {
   "cell_type": "code",
   "execution_count": 9,
   "id": "b57c4e51",
   "metadata": {},
   "outputs": [
    {
     "name": "stdout",
     "output_type": "stream",
     "text": [
      "9.0\n",
      "11.0\n",
      "4.0\n"
     ]
    }
   ],
   "source": [
    "def calcAve(*numbers):\n",
    "    total=0\n",
    "    for num in numbers:\n",
    "        total += num\n",
    "    return total/len(numbers)\n",
    "    \n",
    "\n",
    "a= calcAve(9,9)\n",
    "b= calcAve(10,11,12)\n",
    "c= calcAve(1,2,3,4,5,6,7)\n",
    "\n",
    "print(a)\n",
    "print(b)\n",
    "print(c)"
   ]
  },
  {
   "cell_type": "code",
   "execution_count": 10,
   "id": "98e942a2",
   "metadata": {},
   "outputs": [
    {
     "data": {
      "text/plain": [
       "function"
      ]
     },
     "execution_count": 10,
     "metadata": {},
     "output_type": "execute_result"
    }
   ],
   "source": [
    "import math\n",
    "hypot= lambda a,b : math.sqrt(a*a + b* b)\n",
    "\n",
    "type(hypot)"
   ]
  },
  {
   "cell_type": "code",
   "execution_count": 11,
   "id": "c26cd5aa",
   "metadata": {},
   "outputs": [
    {
     "name": "stdout",
     "output_type": "stream",
     "text": [
      "seconds= 5400\n",
      "seconds= 9060\n"
     ]
    }
   ],
   "source": [
    "to_seconds= lambda hours,minutes : (\"seconds= %d\"%(hours*60*60+ minutes*60))\n",
    "\n",
    "print(to_seconds(1,30))\n",
    "print(to_seconds(2,31))"
   ]
  },
  {
   "cell_type": "code",
   "execution_count": 12,
   "id": "b6a74307",
   "metadata": {},
   "outputs": [
    {
     "name": "stdout",
     "output_type": "stream",
     "text": [
      "seconds= 7200\n",
      "seconds= 3660\n"
     ]
    }
   ],
   "source": [
    "to_seconds= lambda hours,minutes=0 : print(\"seconds= {}\".format(hours*60*60+minutes*60))\n",
    "\n",
    "to_seconds(2)\n",
    "to_seconds(1,1)"
   ]
  },
  {
   "cell_type": "code",
   "execution_count": null,
   "id": "616d2e0b",
   "metadata": {},
   "outputs": [],
   "source": []
  }
 ],
 "metadata": {
  "kernelspec": {
   "display_name": "Python 3 (ipykernel)",
   "language": "python",
   "name": "python3"
  },
  "language_info": {
   "codemirror_mode": {
    "name": "ipython",
    "version": 3
   },
   "file_extension": ".py",
   "mimetype": "text/x-python",
   "name": "python",
   "nbconvert_exporter": "python",
   "pygments_lexer": "ipython3",
   "version": "3.9.7"
  },
  "vscode": {
   "interpreter": {
    "hash": "0ed8b1f1204e3ec9fd00160a1836bd979d4552f7e99d1a18dc9610716eedd92b"
   }
  }
 },
 "nbformat": 4,
 "nbformat_minor": 5
}
