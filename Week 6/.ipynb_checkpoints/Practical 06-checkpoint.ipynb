{
 "cells": [
  {
   "cell_type": "code",
   "execution_count": 1,
   "id": "da249545",
   "metadata": {},
   "outputs": [
    {
     "name": "stdout",
     "output_type": "stream",
     "text": [
      "4 9 16 25 "
     ]
    }
   ],
   "source": [
    "squares = [4, 9, 16, 25]\n",
    "for n in squares:\n",
    "    print(n,end=\" \")"
   ]
  },
  {
   "cell_type": "code",
   "execution_count": 2,
   "id": "c04eb50f",
   "metadata": {},
   "outputs": [
    {
     "name": "stdout",
     "output_type": "stream",
     "text": [
      "[4, 9, 16, 25, 36, 49, 56]\n"
     ]
    }
   ],
   "source": [
    "squares= [4, 9, 16, 25]\n",
    "new_sqr= [36, 49, 56]\n",
    "for i in new_sqr:\n",
    "    squares.append(i)\n",
    "    \n",
    "print(squares)"
   ]
  },
  {
   "cell_type": "code",
   "execution_count": 3,
   "id": "1975771b",
   "metadata": {},
   "outputs": [
    {
     "name": "stdout",
     "output_type": "stream",
     "text": [
      "[49, 64, 100, 121, 144, 169]\n"
     ]
    }
   ],
   "source": [
    "sqr = [49, 64, 100]\n",
    "for i in range (11, 14):\n",
    "    sqr.extend([i*i])\n",
    "    \n",
    "print(sqr)"
   ]
  },
  {
   "cell_type": "code",
   "execution_count": 4,
   "id": "77001a34",
   "metadata": {},
   "outputs": [
    {
     "name": "stdout",
     "output_type": "stream",
     "text": [
      "[49, 64, 100, 121, 144, 169]\n"
     ]
    }
   ],
   "source": [
    "sqr2 = [49, 64, 100]\n",
    "sqr2.extend([121, 144, 169])\n",
    "print(sqr2)"
   ]
  },
  {
   "cell_type": "code",
   "execution_count": 5,
   "id": "b3392551",
   "metadata": {},
   "outputs": [
    {
     "name": "stdout",
     "output_type": "stream",
     "text": [
      "[1, 2, 4, 9, 16, 25]\n"
     ]
    }
   ],
   "source": [
    "squares= [4, 9, 16, 25]\n",
    "squares[:0]= [1,2]\n",
    "print(squares)"
   ]
  },
  {
   "cell_type": "code",
   "execution_count": 6,
   "id": "c20917ab",
   "metadata": {},
   "outputs": [
    {
     "name": "stdout",
     "output_type": "stream",
     "text": [
      "[16, 25, 36, 64, 81]\n"
     ]
    }
   ],
   "source": [
    "my_square= [16, 25, 36, 49, 64, 81]\n",
    "my_square.remove(49)\n",
    "print(my_square)"
   ]
  },
  {
   "cell_type": "code",
   "execution_count": 7,
   "id": "34afdae5",
   "metadata": {},
   "outputs": [
    {
     "ename": "ValueError",
     "evalue": "list.remove(x): x not in list",
     "output_type": "error",
     "traceback": [
      "\u001b[1;31m---------------------------------------------------------------------------\u001b[0m",
      "\u001b[1;31mValueError\u001b[0m                                Traceback (most recent call last)",
      "\u001b[1;32m~\\AppData\\Local\\Temp/ipykernel_7968/1948049675.py\u001b[0m in \u001b[0;36m<module>\u001b[1;34m\u001b[0m\n\u001b[1;32m----> 1\u001b[1;33m \u001b[0mmy_square\u001b[0m\u001b[1;33m.\u001b[0m\u001b[0mremove\u001b[0m\u001b[1;33m(\u001b[0m\u001b[1;36m3\u001b[0m\u001b[1;33m)\u001b[0m\u001b[1;33m\u001b[0m\u001b[1;33m\u001b[0m\u001b[0m\n\u001b[0m",
      "\u001b[1;31mValueError\u001b[0m: list.remove(x): x not in list"
     ]
    }
   ],
   "source": [
    "my_square.remove(3)"
   ]
  },
  {
   "cell_type": "code",
   "execution_count": 8,
   "id": "0f8113a1",
   "metadata": {},
   "outputs": [
    {
     "name": "stdout",
     "output_type": "stream",
     "text": [
      "[1, 3, 1, 2]\n"
     ]
    }
   ],
   "source": [
    "my_list= [1, 2, 3, 1, 2]\n",
    "my_list.remove(2)\n",
    "print(my_list)"
   ]
  },
  {
   "cell_type": "code",
   "execution_count": 9,
   "id": "4db2f937",
   "metadata": {},
   "outputs": [
    {
     "name": "stdout",
     "output_type": "stream",
     "text": [
      "[1, 3, 1]\n"
     ]
    }
   ],
   "source": [
    "my_list.pop()\n",
    "print(my_list)"
   ]
  },
  {
   "cell_type": "code",
   "execution_count": 10,
   "id": "a4303533",
   "metadata": {},
   "outputs": [
    {
     "name": "stdout",
     "output_type": "stream",
     "text": [
      "[3, 5, 7, 11]\n"
     ]
    }
   ],
   "source": [
    "prime= [2, 3, 5, 7, 11]\n",
    "prime.pop(0)    # first index\n",
    "print(prime)"
   ]
  },
  {
   "cell_type": "code",
   "execution_count": 11,
   "id": "6d6c5b7b",
   "metadata": {},
   "outputs": [
    {
     "name": "stdout",
     "output_type": "stream",
     "text": [
      "['Anna', 'Eric', 'Sam', 'Sophie']\n"
     ]
    }
   ],
   "source": [
    "names= [\"Eric\", \"anna\", \"Sophie\", \"sam\"]\n",
    "new_names= [i.capitalize() for i in names]\n",
    "new_names.sort()\n",
    "print(new_names)"
   ]
  },
  {
   "cell_type": "code",
   "execution_count": null,
   "id": "67bea72b",
   "metadata": {},
   "outputs": [],
   "source": []
  },
  {
   "cell_type": "code",
   "execution_count": null,
   "id": "a2b70205",
   "metadata": {},
   "outputs": [],
   "source": []
  },
  {
   "cell_type": "code",
   "execution_count": 12,
   "id": "c4ff5f33",
   "metadata": {},
   "outputs": [
    {
     "name": "stdout",
     "output_type": "stream",
     "text": [
      "[25, 16, 9, 4]\n"
     ]
    }
   ],
   "source": [
    "squares = [4, 9, 16, 25]\n",
    "squares.reverse()\n",
    "print(squares)"
   ]
  },
  {
   "cell_type": "code",
   "execution_count": 13,
   "id": "c441548a",
   "metadata": {},
   "outputs": [
    {
     "data": {
      "text/plain": [
       "3"
      ]
     },
     "execution_count": 13,
     "metadata": {},
     "output_type": "execute_result"
    }
   ],
   "source": [
    "colours= [\"red\", \"green\", \"yellow\", \"blue\", \"red\"]\n",
    "colours.index(\"blue\")"
   ]
  },
  {
   "cell_type": "code",
   "execution_count": 14,
   "id": "b5697156",
   "metadata": {},
   "outputs": [
    {
     "name": "stdout",
     "output_type": "stream",
     "text": [
      "['mango', 'apple', 'pineapple']\n"
     ]
    }
   ],
   "source": [
    "fruit= [\"mango\", \"apple\", \"pineapple\"]\n",
    "new_fruit= fruit.copy()\n",
    "fruit.append(\"banana\")\n",
    "print(new_fruit)"
   ]
  },
  {
   "cell_type": "code",
   "execution_count": 15,
   "id": "ee4096a1",
   "metadata": {},
   "outputs": [
    {
     "name": "stdout",
     "output_type": "stream",
     "text": [
      "[8, 27, 64, 125, 216, 343, 512, 729, 1000, 1331, 1728, 2197, 2744, 3375, 4096, 4913, 5832, 6859, 8000]\n"
     ]
    }
   ],
   "source": [
    "cubes = [x*x*x for x in range(2,21)]\n",
    "print(cubes)"
   ]
  },
  {
   "cell_type": "code",
   "execution_count": 16,
   "id": "090c15e5",
   "metadata": {},
   "outputs": [
    {
     "name": "stdout",
     "output_type": "stream",
     "text": [
      "['rabi', 'thapa', 'paradox']\n"
     ]
    }
   ],
   "source": [
    "all_users= [\"rabi\", \"theweekend\", \"thapa\", \"paradox\", \"hyitsmerabi\"]\n",
    "\n",
    "''' for inclusion in some_user the string must be of length smaller than 8 '''\n",
    "\n",
    "some_users = [u for u in all_users if len(u)< 8]\n",
    "print(some_users) "
   ]
  },
  {
   "cell_type": "code",
   "execution_count": null,
   "id": "75bc8be5",
   "metadata": {},
   "outputs": [],
   "source": []
  },
  {
   "cell_type": "raw",
   "id": "121e7d67",
   "metadata": {},
   "source": [
    "Tuples"
   ]
  },
  {
   "cell_type": "code",
   "execution_count": 17,
   "id": "21e0b0de",
   "metadata": {},
   "outputs": [
    {
     "data": {
      "text/plain": [
       "tuple"
      ]
     },
     "execution_count": 17,
     "metadata": {},
     "output_type": "execute_result"
    }
   ],
   "source": [
    "address= (120, \"shree nagar\", 33000)\n",
    "type(address)"
   ]
  },
  {
   "cell_type": "code",
   "execution_count": 18,
   "id": "7bcb4899",
   "metadata": {},
   "outputs": [
    {
     "data": {
      "text/plain": [
       "tuple"
      ]
     },
     "execution_count": 18,
     "metadata": {},
     "output_type": "execute_result"
    }
   ],
   "source": [
    "the_one= \"Neo\",\n",
    "type(the_one)"
   ]
  },
  {
   "cell_type": "code",
   "execution_count": 19,
   "id": "036b89ab",
   "metadata": {},
   "outputs": [
    {
     "name": "stdout",
     "output_type": "stream",
     "text": [
      "120\n",
      "Baglung\n",
      "33000\n"
     ]
    }
   ],
   "source": [
    "address= (120, \"Baglung\", 33000)\n",
    "house_num, street, postcode= address\n",
    "\n",
    "print(house_num)\n",
    "print(street)\n",
    "print(postcode)"
   ]
  },
  {
   "cell_type": "code",
   "execution_count": 20,
   "id": "07cc09fe",
   "metadata": {},
   "outputs": [
    {
     "name": "stdout",
     "output_type": "stream",
     "text": [
      "120\n",
      "Baglung\n",
      "33000\n"
     ]
    }
   ],
   "source": [
    "def prin(*tup):\n",
    "    for i in tup:\n",
    "        print(i)\n",
    "        \n",
    "prin(*address)"
   ]
  },
  {
   "cell_type": "code",
   "execution_count": null,
   "id": "e2909519",
   "metadata": {},
   "outputs": [],
   "source": []
  },
  {
   "cell_type": "code",
   "execution_count": null,
   "id": "e074c33b",
   "metadata": {},
   "outputs": [],
   "source": []
  }
 ],
 "metadata": {
  "kernelspec": {
   "display_name": "Python 3 (ipykernel)",
   "language": "python",
   "name": "python3"
  },
  "language_info": {
   "codemirror_mode": {
    "name": "ipython",
    "version": 3
   },
   "file_extension": ".py",
   "mimetype": "text/x-python",
   "name": "python",
   "nbconvert_exporter": "python",
   "pygments_lexer": "ipython3",
   "version": "3.9.7"
  }
 },
 "nbformat": 4,
 "nbformat_minor": 5
}
